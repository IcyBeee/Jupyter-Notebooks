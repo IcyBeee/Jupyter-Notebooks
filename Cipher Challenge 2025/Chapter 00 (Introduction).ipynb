{
 "cells": [
  {
   "cell_type": "markdown",
   "metadata": {},
   "source": [
    "# Cipher Challenge 2025\n",
    "### Chapter 0 (Introduction) / 2025-Sep-11\n",
    "\n",
    "Challenge link https://www.cipherchallenge.org/challenge/introduction/"
   ]
  },
  {
   "cell_type": "code",
   "execution_count": 1,
   "metadata": {},
   "outputs": [],
   "source": [
    "# Part A - \"DON’T TELL ANYONE!\"\n",
    "part_a_text = \"\"\"GUR ANGVBANY NEPUVIRF VA XRJ PBAGNVA N GUBHFNAQ LRNEF BS UVFGBEL. QBPHZRAGF BS FGNGR QNGVAT ONPX BIRE N GUBHFNAQ LRNEF NER PNERSHYYL CERFREIRQ NAQ FGHQVRQ OL UVFGBEVNAF SEBZ NEBHAQ GUR JBEYQ – SVYRF GUNG NER BSGRA FRAFVGVIR NAQ ZNEXRQ JVGU N ERYRNFR QNGR JUVPU PBHYQ OR NF YBAT NF BAR UHAQERQ LRNEF SBE CNEGVPHYNEYL FRAFVGVIR VASBEZNGVBA. ZHPU YRFF JRYY XABJA VF GUR FUNQBJ NEPUVIR, QRRC VAFVQR GUR UBZR BS OEVGVFU PBQROERNXVAT JUVPU PBAGNVAF SVYRF GUNG ZVTUG ARIRE OR ERYRNFRQ. GURL PNEEL GUR ZNEX QGN, JUVPU QRABGRF QRYRTNGR GB NEPUNRBYBTL, GUR GRNZ ERFCBAFVOYR SBE GURZ OHG GUR NEPUVIVFGF WBXR GUNG VG FGBBQ SBE QBA’G GRYY NALBAR. GURFR SVYRF PBAGNVA FRPERGF GUNG, NYBAT JVGU GURVE PVCURE XRLF, JRER YBFG YBAT NTB. AB-BAR XABJF JUNG GERNFHERF GURL ZVTUG PBAGNVA. VG VF LBHE WBO GB OERNX GUR PVCUREF NAQ GB SVAQ BHG!\"\"\""
   ]
  },
  {
   "cell_type": "code",
   "execution_count": 2,
   "metadata": {},
   "outputs": [],
   "source": [
    "# Bring in the basic decoder function\n",
    "import string\n",
    "\n",
    "# A simple translation method.\n",
    "# text: The text to translate, in upper case\n",
    "# key: A substitution alphabet, usually in lower case so that the translated characters show up\n",
    "def decode(text, key):\n",
    "    table = str.maketrans(string.ascii_uppercase, key)\n",
    "    print(text.upper().translate(table))"
   ]
  },
  {
   "cell_type": "code",
   "execution_count": 3,
   "metadata": {},
   "outputs": [
    {
     "name": "stdout",
     "output_type": "stream",
     "text": [
      "the national archives in kew contain a thousand years of history. documents of state dating back over a thousand years are carefully preserved and studied by historians from around the world – files that are often sensitive and marked with a release date which could be as long as one hundred years for particularly sensitive information. much less well known is the shadow archive, deep inside the home of british codebreaking which contains files that might never be released. they carry the mark dta, which denotes delegate to archaeology, the team responsible for them but the archivists joke that it stood for don’t tell anyone. these files contain secrets that, along with their cipher keys, were lost long ago. no-one knows what treasures they might contain. it is your job to break the ciphers and to find out!\n"
     ]
    }
   ],
   "source": [
    "# As this is week 1, it's probably a Caesar cipher.  \"GUR\" looks like it's \"the\" (+6)\n",
    "decode(part_a_text, \"nopqrstuvwxyzabcdefghijklm\")"
   ]
  },
  {
   "cell_type": "code",
   "execution_count": 4,
   "metadata": {},
   "outputs": [],
   "source": [
    "# Part B \"Mission (not Im)possible\"\n",
    "part_b_text = \"\"\"EDCT OEEW VAKUE DZK U OUXX BAHJ JOA ZEO KACLYEZJH NAG QAL JA KECUBTEG. JTEQ DGE JDWEZ NGAY JTE DGCTUMEH TEGE DJ IAHH CEZJGDX DZK GEXDJE JA EMEZJH ACCLGGUZS AMEG AZE TLZKGEK DZK NUNJQ QEDGH DSA. U TDME D NEEXUZS JTDJ JTEQ YUSTJ HJUXX IE GEXEMDZJ!!! QALG JDHW UH JA KECGQBJ EDCT AN JTE KACLYEZJH DZK LBXADK QALG HAXLJUAZH AZ JTE CTDXXEZSE BDSEH. UN QAL YDWE D YUHJDWE QAL OUXX SEJ HAYE NEEKIDCW DZK CDZ JGQ DSDUZ. QAL OUXX SEJ D HCAGE NAG EDCT DJJEYBJ DZK OE OUXX ILUXK D XEDKEGIADGK LHUZS JTAHE HCAGEH. UN QAL DGE UZ D JEDY, JTEZ AZXQ JTE JEDY CDBJDUZ CDZ LBXADK HLIYUHHUAZH, HA YDWE HLGE QAL OAGW OUJT JTEY JA SEJ QALG DZHOEGH HLIYUJJEK. UZ QALG DCCALZJ BDSEH QAL OUXX NUZK D GECAGK AN QALG HLIYUHHUAZH, JASEJTEG OUJT D CABQ AN D CEGJUNUCDJE GECAGKUZS QALG BGASGEHH. UN QAL ODZJ QAL CDZ DXXAO QALG JEDCTEG JA NAXXAO QALG BGASGEHH IQ SEJJUZS JTE JEDY CDBJDUZ JA EZJEG D HBECUDX BUZ ZLYIEG (JTE JEDCTEG’H YAZUJAGUZS BUZ) UZJA JTE JEDY KEJDUXH AZ JTEUG DCCALZJ BDSE. UN QAL TDME DZQ FLEHJUAZH JTEZ TEDK AMEG JA JTE NAGLY OTEGE QAL OUXX NUZK XAJH AN NGUEZKXQ DKMUCE! SAAK XLCW, TDGGQ\"\"\""
   ]
  },
  {
   "cell_type": "code",
   "execution_count": 5,
   "metadata": {},
   "outputs": [
    {
     "name": "stdout",
     "output_type": "stream",
     "text": [
      "eaCh OeeW VodUe and U OUXX BoHt tOo neO doCuYentH Nor you to deCUBher. they are taWen NroY the arChUMeH here at IoHH CentraX and reXate to eMentH oCCurrUnS oMer one hundred and NUNty yearH aSo. U haMe a NeeXUnS that they YUSht HtUXX Ie reXeMant!!! your taHW UH to deCryBt eaCh oN the doCuYentH and uBXoad your HoXutUonH on the ChaXXenSe BaSeH. UN you YaWe a YUHtaWe you OUXX Set HoYe NeedIaCW and Can try aSaUn. you OUXX Set a HCore Nor eaCh atteYBt and Oe OUXX IuUXd a XeaderIoard uHUnS thoHe HCoreH. UN you are Un a teaY, then onXy the teaY CaBtaUn Can uBXoad HuIYUHHUonH, Ho YaWe Hure you OorW OUth theY to Set your anHOerH HuIYUtted. Un your aCCount BaSeH you OUXX NUnd a reCord oN your HuIYUHHUonH, toSether OUth a CoBy oN a CertUNUCate reCordUnS your BroSreHH. UN you Oant you Can aXXoO your teaCher to NoXXoO your BroSreHH Iy SettUnS the teaY CaBtaUn to enter a HBeCUaX BUn nuYIer (the teaCher’H YonUtorUnS BUn) Unto the teaY detaUXH on theUr aCCount BaSe. UN you haMe any FueHtUonH then head oMer to the NoruY Ohere you OUXX NUnd XotH oN NrUendXy adMUCe! Sood XuCW, harry\n"
     ]
    }
   ],
   "source": [
    "# The page indicates that it is a substitution cipher.\n",
    "# \"TDGGQ\" - probably \"harry\".\n",
    "# Lots of \"QAL\" - probably \"you\".\n",
    "# Lots of \"DZK\" - probably \"and\"\n",
    "# Lots of \"JTE\" - probably \"the\"\n",
    "decode(part_b_text, \"oBCaeFrHItduMNOPyRShUVWXYn\")"
   ]
  },
  {
   "cell_type": "code",
   "execution_count": 6,
   "metadata": {},
   "outputs": [
    {
     "name": "stdout",
     "output_type": "stream",
     "text": [
      "each week jodie and i will post two new documents for you to decipher. they are taken from the archives here at boss central and relate to events occurring over one hundred and fifty years ago. i have a feeling that they might still be relevant!!! your task is to decrypt each of the documents and upload your solutions on the challenge pages. if you make a mistake you will get some feedback and can try again. you will get a score for each attempt and we will build a leaderboard using those scores. if you are in a team, then only the team captain can upload submissions, so make sure you work with them to get your answers submitted. in your account pages you will find a record of your submissions, together with a copy of a certificate recording your progress. if you want you can allow your teacher to follow your progress by getting the team captain to enter a special pin number (the teacher’s monitoring pin) into the team details on their account page. if you have any questions then head over to the forum where you will find lots of friendly advice! good luck, harry\n"
     ]
    }
   ],
   "source": [
    "# \"eaCh OeeW\" -> C=c, O=w, W=k\n",
    "# \"U OUXX\" -> U=i, X=l\n",
    "# \"doCuYentH Nor you to deCUBher\" -> Y=m, H=s, N=f, B=p\n",
    "# \"arChUMeH here at IoHH CentraX\" -> M=v, I=b\n",
    "# \"FueHtUonH\" -> F=q\n",
    "# \"toSether\" -> S=g\n",
    "# Leaving P=x, R=z, V=j\n",
    "decode(part_b_text, \"opcaeqrsbtduvfwxyzghijklmn\")"
   ]
  },
  {
   "cell_type": "code",
   "execution_count": 7,
   "metadata": {},
   "outputs": [],
   "source": [
    "import string\n",
    "\n",
    "# Attempts to determine the keyword used for a substitution cipher\n",
    "# alphabet: The substitution alphabet\n",
    "def decode_key(alphabet):\n",
    "    decoded_alphabet = \"\"\n",
    "    for letter in string.ascii_lowercase:\n",
    "        decoded_alphabet += chr(alphabet.find(letter) + ord(\"a\"))\n",
    "    print(f\"Decoded alphabet: {decoded_alphabet}\")\n",
    "    \n",
    "    remaining_letters = list(string.ascii_lowercase)\n",
    "    for pos, letter in enumerate(decoded_alphabet):\n",
    "        remaining_letters.remove(letter)\n",
    "        next_letter_index = remaining_letters.index(decoded_alphabet[pos+1])\n",
    "        if decoded_alphabet[pos+1:] == \"\".join(remaining_letters[next_letter_index:] + remaining_letters[:next_letter_index]):\n",
    "            print(f\"Keyword: {decoded_alphabet[:pos+2]}\")\n",
    "            break"
   ]
  },
  {
   "cell_type": "code",
   "execution_count": 8,
   "metadata": {},
   "outputs": [
    {
     "name": "stdout",
     "output_type": "stream",
     "text": [
      "Decoded alphabet: dickenstuvwxyzabfghjlmopqr\n",
      "Keyword: dickens\n"
     ]
    }
   ],
   "source": [
    "decode_key(\"opcaeqrsbtduvfwxyzghijklmn\")"
   ]
  },
  {
   "cell_type": "code",
   "execution_count": null,
   "metadata": {},
   "outputs": [],
   "source": []
  }
 ],
 "metadata": {
  "kernelspec": {
   "display_name": "Python 3 (ipykernel)",
   "language": "python",
   "name": "python3"
  },
  "language_info": {
   "codemirror_mode": {
    "name": "ipython",
    "version": 3
   },
   "file_extension": ".py",
   "mimetype": "text/x-python",
   "name": "python",
   "nbconvert_exporter": "python",
   "pygments_lexer": "ipython3",
   "version": "3.12.4"
  }
 },
 "nbformat": 4,
 "nbformat_minor": 4
}
