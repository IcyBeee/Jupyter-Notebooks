{
 "cells": [
  {
   "cell_type": "markdown",
   "metadata": {},
   "source": [
    "# Cipher Challenge 2025\n",
    "### Chapter 1 / 2025-Oct-09\n",
    "\n",
    "Challenge link https://www.cipherchallenge.org/challenge/challenge-1/"
   ]
  },
  {
   "cell_type": "code",
   "execution_count": 1,
   "metadata": {},
   "outputs": [],
   "source": [
    "# Part A - \"The best of times\"\n",
    "part_a_text = \"\"\"HT YZVMZNO ZGGZI, RZ VMZ, VO GVNO, VMMDQZY DI IZR TJMF, VIY D XVIIJO OZGG TJP CJR CVKKT D VH OJ WZ CZMZ. VAOZM V GJIB VIY VMYPJPN NZV EJPMIZT D XVIIJO NVT DO DN OCZ WZNO JA ODHZN, WPO DO DN AVM AMJH OCZ RJMNO! OCVIF TJP NJ HPXC AJM XJHHZIYDIB HZ OJ TJPM AMDZIY HM YDXFZIN. CZ DN V YZHVIYDIB ZHKGJTZM, WPO IJO PIFDIY, VIY OCZ RJMF DN ZIBVBDIB VIY MZRVMYDIB DI ZLPVG HZVNPMZ. ZIXJPMVBZY WT CDN BJJY AMDZIY HM RDGFDZ, CZ CVN WZBPI OJ XJINDYZM V IZR IJQZG DI OCZ NOTGZ JA V HTNOZMT, VIY D OCDIF DO HDBCO WZ CDN ADIZNO DYZV TZO. D VH IJO XZMOVDI RCZOCZM OCZ QJTVBZ DONZGA CVN ODMZY CDH, WPO CZ CVN NZZHZY DI GJR NKDMDON NDIXZ RZ VMMDQZY, VIY D VH CJKDIB OCVO OCDN IZR KMJEZXO RDGG CZGK OJ GDAO OCZH. D RJIYZM DA CDN YZHZVIJPM DN DI KVMO MZGVOZY OJ OCZ VKKZVMVIXZ JA V MVOCZM NOMVIBZ IJOZ OCVO RVN YZGDQZMZY OJ CDN XVWDI JI VMMDQVG DI OCZ KJMO. DO DN HJNO DIOMDBPDIB. VN TJP FIJR, D VH MZLPDMZY OJ JKZI VIY NJMO VGG OCZ HVDG, YZOZMHDIDIB RCDXC GZOOZMN, DA VIT, MZLPDMZ HM YDXFZIN VOOZIODJI. OCZ GZOOZM RVN HVMFZY \\”NOMDXOGT KMDQVOZ AJM HM XCVMGZN YDXFZIN”, WPO D XJIAZNN D CVY VGMZVYT JKZIZY OCZ ZIQZGJKZ WZAJMZ D IJODXZY OCZ NOZMI DIEPIXODJI VIY OCZMZAJMZ CVY NZZI OCZ XJIOZION RCDXC RZMZ IJO AJM HT ZTZN. D NVT NZZI MVOCZM OCVI MZVY, AJM DO RVN DHKJNNDWGZ OJ MZVY OCZ RJMYN OCZMZDI, DA DIYZZY OCZT RZMZ RJMYN! OCZ XCVMVXOZMN, RCDGZ AVHDGDVM, HVYZ IJ NZINZ VIY D YZOZMHDIZY OJ MZKGVXZ OCZ GZOOZM DI DON ZIQZGJKZ VIY OJ KVNN DO OJ HM YDXFZIN RDOC HT VKJGJBDZN. CZ OJJF DO, NVTDIB IJOCDIB VIY NKZIO NJHZ ODHZ VGJIZ DI CDN XVWDI. D YDY IJO NZZ OCZ GZOOZM VBVDI WPO YDY YDNXJQZM V NHVGG KDGZ JA VNC DI V YDNC PKJI CDN YZNF. PIVWGZ OJ NPKKMZNN HT XPMDJNDOT D ZILPDMZY JA OCZ NCDK\\’N NOZRVMY DA CZ FIZR VITOCDIB JA OCDN IJOZ, VIY CZ OJGY HZ OCVO DO CVY WZZI YZGDQZMZY WT CVIY, WT V HVI FIJRI OJ OCZ XMZR VN NZXMZOVMT OJ HM BMZIQDGGZ H. YJYBZ. D FIJR IJOCDIB JA OCDN HVI, WZTJIY OCZ AVXO OCVO CZ DN V RZVGOCT DIYPNOMDVGDNO, VIY D XVI JIGT NPKKJNZ OCVO CZ DN CJKDIB OJ HZZO OCZ AVHJPN VPOCJM KMDQVOZGT. DA NJ, D OCDIF CZ HVT WZ YDNVKKJDIOZY. JPM NXCZYPGZ DN VGMZVYT APGG, VIY D XVIIJO OCDIF OCVO RZ NCJPGY QVMT DO DI MZNKJINZ OJ OCZ HVIT NPXC MZLPZNON. NODGG, D XVIIJO ZNXVKZ OCZ DHKMZNNDJI OCVO OCDN RVN HJMZ OCVI V KMDQVOZ DIQDOVODJI. DA DO RZMZ OCZI D XVIIJO NZZ RCT DON XJIOZION RJPGY IZZY OJ WZ NZXPMZY. DO NZZHN OCZMZ HVT WZ HJMZ OCVI JIZ HTNOZMT VO CVIY. TJPMN NDIXZMZGT, XGVMV\"\"\""
   ]
  },
  {
   "cell_type": "code",
   "execution_count": 2,
   "metadata": {},
   "outputs": [],
   "source": [
    "import string\n",
    "\n",
    "# A simple translation method.\n",
    "# text: The text to translate, in upper case\n",
    "# key: A substitution alphabet, usually in lower case so that the translated characters show up\n",
    "def decode(text, key):\n",
    "    table = str.maketrans(string.ascii_uppercase, key)\n",
    "    print(text.upper().translate(table))"
   ]
  },
  {
   "cell_type": "code",
   "execution_count": 4,
   "metadata": {},
   "outputs": [
    {
     "name": "stdout",
     "output_type": "stream",
     "text": [
      "my dearest ellen, we are, at last, arrived in new york, and i cannot tell you how happy i am to be here. after a long and arduous sea journey i cannot say it is the best of times, but it is far from the worst! thank you so much for commending me to your friend mr dickens. he is a demanding employer, but not unkind, and the work is engaging and rewarding in equal measure. encouraged by his good friend mr wilkie, he has begun to consider a new novel in the style of a mystery, and i think it might be his finest idea yet. i am not certain whether the voyage itself has tired him, but he has seemed in low spirits since we arrived, and i am hoping that this new project will help to lift them. i wonder if his demeanour is in part related to the appearance of a rather strange note that was delivered to his cabin on arrival in the port. it is most intriguing. as you know, i am required to open and sort all the mail, determining which letters, if any, require mr dickens attention. the letter was marked \\”strictly private for mr charles dickens”, but i confess i had already opened the envelope before i noticed the stern injunction and therefore had seen the contents which were not for my eyes. i say seen rather than read, for it was impossible to read the words therein, if indeed they were words! the characters, while familiar, made no sense and i determined to replace the letter in its envelope and to pass it to mr dickens with my apologies. he took it, saying nothing and spent some time alone in his cabin. i did not see the letter again but did discover a small pile of ash in a dish upon his desk. unable to suppress my curiosity i enquired of the ship\\’s steward if he knew anything of this note, and he told me that it had been delivered by hand, by a man known to the crew as secretary to mr grenville m. dodge. i know nothing of this man, beyond the fact that he is a wealthy industrialist, and i can only suppose that he is hoping to meet the famous author privately. if so, i think he may be disappointed. our schedule is already full, and i cannot think that we should vary it in response to the many such requests. still, i cannot escape the impression that this was more than a private invitation. if it were then i cannot see why its contents would need to be secured. it seems there may be more than one mystery at hand. yours sincerely, clara\n"
     ]
    }
   ],
   "source": [
    "# It will probably be a Caesar cipher to start with.\n",
    "# Looks like \"OCZ\" is \"THE\"\n",
    "decode(part_a_text, \"fghijklmnopqrstuvwxyzabcde\")"
   ]
  },
  {
   "cell_type": "code",
   "execution_count": 5,
   "metadata": {},
   "outputs": [],
   "source": [
    "# Part B - \"Phoenix\"\n",
    "part_b_text = \"\"\"FRWXT KFKWB VDXGL BMKNL MMATM RHNKC HNKGX RPTLN GXOXG MYNET GWAHI XRHNP BEEGH MFBGW FRWBK XVMGX LLBGP KBMBG ZMHRH NHGRH NKTKK BOTEB GGXPR HKDBT IIKXV BTMXM ATMRH NFTRG XXWTE BMMEX MBFXM HLXMR HNKHP GIETG LBGFH MBHGU NMMAB GZLTK XFHOB GZLHF XPATM YTLMX KMATG BXGOB LTZXW PAXGB YBKLM TIIKH TVAXW FKUTU UTZXP BMAFR IKHIH LTEBY XTKMA TMBGM AXLXW TGZXK HNLMB FXLBM BLGXV XLLTK RMHKX TVMMH XOXGM LPBMA LIXXW BYPXT KXMHA TOXTG RAHIX HYLAT IBGZH NKWXL MBGRP BMAEN VDBMB LGHMM HHETM XMHXF UTKDH GHNKO XGMNK XBNGW XKLMT GWMAT MRHNK LVAXW NEXBL GHMRX MYBGT EBLXW LHVTG BBFIE HKXRH NMHVH GLBWX KFHOB GZYHK PTKWR HNKOB LBMMH PTLAB GZMHG MAXKX TKXIX HIEXA XKXHY VHGLX JNXGV XPAHT KXXTZ XKMHF XXMPB MARHN TGWPA HFBZA MUXIX KLNTW XWURR HNMHC HBGPB MANLB YMAXL TVKBY BVXHY LHFTG RZHHW FXGTG WPHFX GBLGH MMHUX PTLMX WMAXG PXPBE EGXXW MAXBK LNIIH KMRHN ATOXT EKXTW RLAHP GTKXF TKDTU EXLDB EEBGX QIHLB GZBGC NLMBV XTGWI XKLNT WBGZM AXPXT EMARM HPHKD PBMAR HNMHT WWKXL LBMHG RHNKL BWXHY MAXTM ETGMB VAXKX BGMAX NGBMX WLMTM XLPXT KXWXL IXKTM XERBG GXXWH YRHNK TWOHV TVRBY PXTKX MHVHG LHEBW TMXMA XZTBG LPHGB GHNKF HLMNG VBOBE PTKPB MAFRO XKRUX LMPBL AXLZK XGOBE EXFWH WZX\"\"\""
   ]
  },
  {
   "cell_type": "code",
   "execution_count": 6,
   "metadata": {},
   "outputs": [],
   "source": [
    "from collections import Counter\n",
    "\n",
    "# Takes a string or list of items and counts the frequencies of those items\n",
    "# data: The list or string to analyse\n",
    "# max_values: The maximum number of values to display (set to None for no limit)\n",
    "# no_columns: The amount of columns to use in the output\n",
    "def frequency_analysis(data, max_values=30, no_columns=5):\n",
    "    frequencies = Counter()\n",
    "    for item in data:\n",
    "        frequencies[item] += 1\n",
    "    \n",
    "    total = sum(frequencies.values())\n",
    "    column = 1\n",
    "    for item, frequency in frequencies.most_common(max_values):\n",
    "        print(f\"{item}: {frequency:2} ({frequency / total:.2%})\", end=\" \" if column % no_columns else \"\\n\")\n",
    "        column += 1\n",
    "    print(\"\\n-----\")"
   ]
  },
  {
   "cell_type": "code",
   "execution_count": 7,
   "metadata": {},
   "outputs": [
    {
     "name": "stdout",
     "output_type": "stream",
     "text": [
      "X: 115 (12.00%) M: 88 (9.19%) H: 84 (8.77%) B: 78 (8.14%) G: 71 (7.41%)\n",
      "T: 69 (7.20%) K: 60 (6.26%) L: 57 (5.95%) A: 40 (4.18%) W: 37 (3.86%)\n",
      "N: 36 (3.76%) R: 33 (3.44%) P: 31 (3.24%) E: 27 (2.82%) F: 24 (2.51%)\n",
      "V: 20 (2.09%) I: 20 (2.09%) Z: 17 (1.77%) Y: 15 (1.57%) O: 14 (1.46%)\n",
      "U: 10 (1.04%) D:  7 (0.73%) C:  3 (0.31%) J:  1 (0.10%) Q:  1 (0.10%)\n",
      "\n",
      "-----\n"
     ]
    }
   ],
   "source": [
    "squished = part_b_text.replace(\" \", \"\")\n",
    "frequency_analysis(squished)"
   ]
  },
  {
   "cell_type": "code",
   "execution_count": 11,
   "metadata": {},
   "outputs": [
    {
     "name": "stdout",
     "output_type": "stream",
     "text": [
      "mydearmrdickensitrustthatyourjourneywasuneventfulandhopeyouwillnotmindmydirectnessinwritingtoyouonyourarrivalinnewyorkiappreciatethatyoumayneedalittletimetosetyourownplansinmotionbutthingsaremovingsomewhatfasterthanienvisagedwhenifirstapproachedmrbabbagewithmyproposalifearthatinthesedangeroustimesitisnecessarytoreacttoeventswithspeedifwearetohaveanyhopeofshapingourdestinywithluckitisnottoolatetoembarkonourventureiunderstandthatyourscheduleisnotyetfinalisedsocaniimploreyoutoconsidermovingforwardyourvisittowashingtontherearepeoplehereofconsequencewhoareeagertomeetwithyouandwhomightbepersuadedbyyoutojoinwithusifthesacrificeofsomanygoodmenandwomenisnottobewastedthenwewillneedtheirsupportyouhavealreadyshownaremarkableskillinexposinginjusticeandpersuadingthewealthytoworkwithyoutoaddressitonyoursideoftheatlantichereintheunitedstateswearedesperatelyinneedofyouradvocacyifwearetoconsolidatethegainswoninourmostuncivilwarwithmyverybestwishesgrenvillemdodge\n"
     ]
    }
   ],
   "source": [
    "# Substitution cipher, X=e\n",
    "decode(squished, \"hijklmnopqrstuvwxyzabcdefg\")"
   ]
  },
  {
   "cell_type": "markdown",
   "metadata": {},
   "source": [
    "## Split using wordninja (plus edits):\n",
    "My dear Mr Dickens, I trust that your journey was uneventful and hope you will not mind my directness in writing to you on your arrival in New York.<br/>\n",
    "I appreciate that you may need a little time to set your own plans in motion but things are moving somewhat faster than I envisaged when I first approached Mr Babbage with my proposal.<br/>\n",
    "I fear that in these dangerous times it is necessary to react to events with speed. If we are to have any hope of shaping our destiny with luck, it is not too late to embark on our venture.<br/>\n",
    "I understand that your schedule is not yet finalised, so can I implore you to consider moving forward your visit to Washington. There are people here of consequence who are eager to meet with you and who might be persuaded by you to join with us. If the sacrifice of so many good men and women is not to be wasted, then we will need their support.<br/>\n",
    "You have already shown a remarkable skill in exposing injustice and persuading the wealthy to work with you to address it on your side of the Atlantic. Here in the United States, we are desperately in need of your advocacy if we are to consolidate the gains won in our most uncivil war.<br/>\n",
    "With my very best wishes,<br/>\n",
    "Grenville M. Dodge"
   ]
  },
  {
   "cell_type": "code",
   "execution_count": null,
   "metadata": {},
   "outputs": [],
   "source": []
  }
 ],
 "metadata": {
  "kernelspec": {
   "display_name": "Python 3 (ipykernel)",
   "language": "python",
   "name": "python3"
  },
  "language_info": {
   "codemirror_mode": {
    "name": "ipython",
    "version": 3
   },
   "file_extension": ".py",
   "mimetype": "text/x-python",
   "name": "python",
   "nbconvert_exporter": "python",
   "pygments_lexer": "ipython3",
   "version": "3.12.4"
  }
 },
 "nbformat": 4,
 "nbformat_minor": 4
}
