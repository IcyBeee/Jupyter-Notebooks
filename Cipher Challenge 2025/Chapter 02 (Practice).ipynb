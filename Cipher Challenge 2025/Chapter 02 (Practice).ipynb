{
 "cells": [
  {
   "cell_type": "markdown",
   "metadata": {},
   "source": [
    "# Cipher Challenge 2025\n",
    "### Chapter 2 / 2025-Oct-16\n",
    "\n",
    "Challenge link https://www.cipherchallenge.org/challenge/challenge-2/"
   ]
  },
  {
   "cell_type": "code",
   "execution_count": 5,
   "metadata": {},
   "outputs": [],
   "source": [
    "# Part A - \"Our mutual friend\"\n",
    "part_a_text = \"\"\"PZ ORFE XERSQDMMR, D PNHK FYVMVXDHR UVE LAFEMRH, AR DH F XVVO PFS, INK LFS IR DEFHLDIMR, FSO KEFQRM ERFMMZ OVRH SVK HNDK ADP. D ERFO ADH MRKKRE KV ZVN TDKA HVPR LVSLRES (KAFSJ ZVN UVE HRSODSX PR F LVYZ), HRRDSX KAFK DK ORPVSHKEFKRH F MVTSRHH DS ADH HYDEKH, INK D LFS FHHNER ZVN KAFK AR DSKRSOH VSMZ KAR IRHK UVE VNE RSORFQVNE. DK KVVJ KAR LVPIDSRO RUUVEKH VU PZHRMU FSO MVEO OREIZ KV LVSQDSLR ADP VU KAR EDXAKSRHH VU VNE YMFS, INK TADMR AR DH UNMMZ LVPPDKKRO KV VNE LFNHR, AR DH SVK RSKDERMZ FK RFHR TDKA VNE PRKAVOH. D AFQR LVSKDSNRO KV HVMDLDK HNYYVEK UVE ZVNE YEVYVHFM VS KADH HDOR VU KAR FKMFSKDL, FSO D FP LVSUDORSK KAFK PZ VTS HPFMM LVSKEDINKDVS LFS YMFZ FS DPYVEKFSK YFEK DS DKH HNLLRHH. D KENHK KAFK ZVNE XEVNY ERPFDSH LVSUDORSK KAFK DK LFS ORMDQRE VS DKH YEVPDHR. TDKA KAR HNYYVEK VU KAR IEDKDHA FSO FPREDLFS XVQRESPRSKH D KADSJ TR LVNMO INDMO HVPRKADSX RSKDERMZ SRT FSO RWKERPRMZ YVTREUNM, AVTRQRE KAR KENR YVKRSKDFM LFS VSMZ IR PRK DU TR LFS RSHNER KVKFM HRLERLZ, FSO D TDMM AFQR KV ERMZ VS ZVN KV YREHNFOR LAFEMRH SVK KV HYRFJ VU VNE ORHDXSH TDKA FSZVSR VNKHDOR VU VNE LDELMR. UVE ADH VTS YFEK, LAFEMRH DH LADRUMZ DSKRERHKRO DS KAR HNLLRHH VU ADH KVNE, FSO TADMR AR TDMM YMFZ FS DPYVEKFSK EVMR DS YREHNFODSX DSQRHKVEH KV GVDS VNE HLARPR FSO YVMDKDLDFSH KV HNYYVEK DK, DK DH DPYVEKFSK KAFK AR DH FMHV FIMR KV RSGVZ KAR UENDKH VU ADH ERFODSX YREUVEPFSLRH. AR DSQRHKH PNLA VU ADPHRMU DS KAVHR ERFODSXH FSO DH DSLMDSRO KV VQREKDER ADPHRMU. D KENHK KAFK ZVN FSO ZVNE UEDRSOH TDMM VUURE ADP KAR HNYYVEK KAFK D TVNMO VUURE DU D LVNMO IR KARER TDKA ADP. TDKAVNK KAFK HNYYVEK D URFE KAFK AR TDMM AFQR SV RSREXZ MRUK KV YEVPVKR VNE YEVGRLK. ZVNE UEDRSO, LAFEMRH IFIIFXR\"\"\""
   ]
  },
  {
   "cell_type": "code",
   "execution_count": 6,
   "metadata": {},
   "outputs": [],
   "source": [
    "import string\n",
    "\n",
    "# A simple translation method.\n",
    "# text: The text to translate, in upper case\n",
    "# key: A substitution alphabet, usually in lower case so that the translated characters show up\n",
    "def decode(text, key):\n",
    "    table = str.maketrans(string.ascii_uppercase, key)\n",
    "    print(text.upper().translate(table))"
   ]
  },
  {
   "cell_type": "code",
   "execution_count": 7,
   "metadata": {},
   "outputs": [
    {
     "name": "stdout",
     "output_type": "stream",
     "text": [
      "my dear XreSQiMMe, i mNHt aYVMVXiHe UVr LharMeH, he iH a XVVd maS, INt LaS Ie iraHLiIMe, aSd traQeM reaMMy dVeH SVt HNit him. i read hiH Metter tV yVN Tith HVme LVSLerS (thaSJ yVN UVr HeSdiSX me a LVYy), HeeiSX that it demVSHtrateH a MVTSeHH iS hiH HYirtH, INt i LaS aHHNre yVN that he iSteSdH VSMy the IeHt UVr VNr eSdeaQVNr. it tVVJ the LVmIiSed eUUVrtH VU myHeMU aSd MVrd derIy tV LVSQiSLe him VU the riXhtSeHH VU VNr YMaS, INt ThiMe he iH UNMMy LVmmitted tV VNr LaNHe, he iH SVt eStireMy at eaHe Tith VNr methVdH. i haQe LVStiSNed tV HVMiLit HNYYVrt UVr yVNr YrVYVHaM VS thiH Hide VU the atMaStiL, aSd i am LVSUideSt that my VTS HmaMM LVStriINtiVS LaS YMay aS imYVrtaSt Yart iS itH HNLLeHH. i trNHt that yVNr XrVNY remaiSH LVSUideSt that it LaS deMiQer VS itH YrVmiHe. Tith the HNYYVrt VU the IritiHh aSd ameriLaS XVQerSmeStH i thiSJ Te LVNMd INiMd HVmethiSX eStireMy SeT aSd eWtremeMy YVTerUNM, hVTeQer the trNe YVteStiaM LaS VSMy Ie met iU Te LaS eSHNre tVtaM HeLreLy, aSd i TiMM haQe tV reMy VS yVN tV YerHNade LharMeH SVt tV HYeaJ VU VNr deHiXSH Tith aSyVSe VNtHide VU VNr LirLMe. UVr hiH VTS Yart, LharMeH iH LhieUMy iStereHted iS the HNLLeHH VU hiH tVNr, aSd ThiMe he TiMM YMay aS imYVrtaSt rVMe iS YerHNadiSX iSQeHtVrH tV GViS VNr HLheme aSd YVMitiLiaSH tV HNYYVrt it, it iH imYVrtaSt that he iH aMHV aIMe tV eSGVy the UrNitH VU hiH readiSX YerUVrmaSLeH. he iSQeHtH mNLh VU himHeMU iS thVHe readiSXH aSd iH iSLMiSed tV VQertire himHeMU. i trNHt that yVN aSd yVNr UrieSdH TiMM VUUer him the HNYYVrt that i TVNMd VUUer iU i LVNMd Ie there Tith him. TithVNt that HNYYVrt i Uear that he TiMM haQe SV eSerXy MeUt tV YrVmVte VNr YrVGeLt. yVNr UrieSd, LharMeH IaIIaXe\n"
     ]
    }
   ],
   "source": [
    "# Probably substitution.\n",
    "# Could start with \"my dear\" -> P=m, Z=y, O=d, R=e, F=a, E=r\n",
    "# \"KAR\" might be \"the\" -> K=t, A=h\n",
    "# \"D\" looks like \"i\"\n",
    "decode(part_a_text, \"hBCiraGHIJtLMNdmQeSTUVWXYy\")"
   ]
  },
  {
   "cell_type": "code",
   "execution_count": 8,
   "metadata": {},
   "outputs": [
    {
     "name": "stdout",
     "output_type": "stream",
     "text": [
      "my dear grenQille, i must apologise for charles, he is a good man, but can be irascible, and traQel really does not suit him. i read his letter to you Tith some concern (thanJ you for sending me a copy), seeing that it demonstrates a loTness in his spirts, but i can assure you that he intends only the best for our endeaQour. it tooJ the combined efforts of myself and lord derby to conQince him of the rightness of our plan, but Thile he is fully committed to our cause, he is not entirely at ease Tith our methods. i haQe continued to solicit support for your proposal on this side of the atlantic, and i am confident that my oTn small contribution can play an important part in its success. i trust that your group remains confident that it can deliQer on its promise. Tith the support of the british and american goQernments i thinJ Te could build something entirely neT and eWtremely poTerful, hoTeQer the true potential can only be met if Te can ensure total secrecy, and i Till haQe to rely on you to persuade charles not to speaJ of our designs Tith anyone outside of our circle. for his oTn part, charles is chiefly interested in the success of his tour, and Thile he Till play an important role in persuading inQestors to Goin our scheme and politicians to support it, it is important that he is also able to enGoy the fruits of his reading performances. he inQests much of himself in those readings and is inclined to oQertire himself. i trust that you and your friends Till offer him the support that i Tould offer if i could be there Tith him. Tithout that support i fear that he Till haQe no energy left to promote our proGect. your friend, charles babbage\n"
     ]
    }
   ],
   "source": [
    "# \"i mNHt aYVMVXiHe UVr\" -> N=u, H=s, Y=p, V=o, M=l, X=g, U=f\n",
    "# \"yVNr UrieSd, LharMeH IaIIaXe\" -> S=n, L=c, I=b\n",
    "decode(part_a_text, \"hBCiraGsbJtcludmQenTfoWgpy\")"
   ]
  },
  {
   "cell_type": "code",
   "execution_count": 9,
   "metadata": {},
   "outputs": [
    {
     "name": "stdout",
     "output_type": "stream",
     "text": [
      "my dear grenville, i must apologise for charles, he is a good man, but can be irascible, and travel really does not suit him. i read his letter to you with some concern (thank you for sending me a copy), seeing that it demonstrates a lowness in his spirts, but i can assure you that he intends only the best for our endeavour. it took the combined efforts of myself and lord derby to convince him of the rightness of our plan, but while he is fully committed to our cause, he is not entirely at ease with our methods. i have continued to solicit support for your proposal on this side of the atlantic, and i am confident that my own small contribution can play an important part in its success. i trust that your group remains confident that it can deliver on its promise. with the support of the british and american governments i think we could build something entirely new and extremely powerful, however the true potential can only be met if we can ensure total secrecy, and i will have to rely on you to persuade charles not to speak of our designs with anyone outside of our circle. for his own part, charles is chiefly interested in the success of his tour, and while he will play an important role in persuading investors to join our scheme and politicians to support it, it is important that he is also able to enjoy the fruits of his reading performances. he invests much of himself in those readings and is inclined to overtire himself. i trust that you and your friends will offer him the support that i would offer if i could be there with him. without that support i fear that he will have no energy left to promote our project. your friend, charles babbage\n"
     ]
    }
   ],
   "source": [
    "# \"grenQille\" -> Q=v\n",
    "# \"Tith some concern (thanJ you for sending me a copy)\" -> T=w, J=k\n",
    "# \"eWtremely\" -> W=x\n",
    "# \"proGect\" -> G=j\n",
    "# Remaining letters: B=q, C=z\n",
    "decode(part_a_text, \"hqzirajsbktcludmvenwfoxgpy\")"
   ]
  },
  {
   "cell_type": "code",
   "execution_count": 10,
   "metadata": {},
   "outputs": [],
   "source": [
    "# Looks like it was an affine cipher with step size 3"
   ]
  },
  {
   "cell_type": "code",
   "execution_count": 13,
   "metadata": {},
   "outputs": [],
   "source": [
    "# Part B \"The thief of time\"\n",
    "part_b_text = \"\"\"GRV XKF TXXFQXLRQ RG JFQFVTO EREJF PV EREJF, AKLOF L ITQQRX IOTLP XR KTZF VFIRZFVFE GYOOC GVRP XKF VLJRYVW RG PC MRYVQFC, L KTZF QRA TEMYWXFE XR CRYV IOLPTXF TQE KTZF HFJYQ XR FWXTHOLWK PC VRYXLQF. L KRSF CRY ALOO QRX XTNF LX HTEOC XKTX L TP VFOYIXTQX XR TJVFF XR CRYV VFUYFWX XR FBSFELXF PC ZLWLX XR ATWKLQJXRQ, HYX L TP QR ORQJFV T CRYQJ PTQ, TQE PC SFVGRVPTQIFW VFUYLVF IRQWLEFVTHOF FQFVJC GVRP PF. TJF LW XKF XKLFG RG XLPF, TQE QRQF RG YW NQRA KRA UYLINOC LX LW WXROFQ GVRP YW. L PYWX ER AKTX L ITQ XR PTVXLTO XKTX PRWX SVFILRYW VFWRYVIF. RYV PYXYTO GVLFQE, PV HTHHTJF, KTW IRPPFQEFE CRY XR PF, TQE RYV RAQ SVLPF PLQLWXFV KTW XTNFQ STLQW XR FBSOTLQ XR PF XKF LPSRVXTQIF RG CRYV PLWWLRQ, KRAFZFV L GTLO XR WFF KRA VFTVVTQJLQJ PC WIKFEYOF ALOO ER TQCXKLQJ PYIK XR WSFFE XKF SVRJVFWW RG AKTX PYWX QFIFWWTVLOC HF T ORQJ-XFVP LQZFWXPFQX RG ITSLXTO TQE VFWRYVIFW. L KTZF SVRPLWFE XKTX L ALOO ER AKTX L ITQ XR TWWLWX CRY, HYX L PYWX IRQWLEFV PC RAQ KFTOXK TQE AFOGTVF LG L TP XR IRPSOFXF XKLW XRYV. PTC L TOWR VFPTVN XKTX LG XKF ARVN RQ AKLIK CRY TVF FPHTVNFE LW XVYOC TW WFIVFX TW CRY TQE HTHHTJF WFFP XR HFOLFZF, XKFQ XKF YWF RG TQILFQX ILSKFVW ERFW QRX PFFX XKTX QFFE. L KTZF XTNFQ XKF OLHFVXC RG YWLQJ WRPFXKLQJ T OLXXOF PRVF TSSVRSVLTXF LQ XKLW OFXXFV TQE ARYOE WYJJFWX XKTX SFVKTSW AF YWF XKLW PFXKRE GRV RYV GYXYVF IRPPYQLITXLRQW. CRYVW WLQIFVFOC, IKTVOFW ELINFQW\"\"\""
   ]
  },
  {
   "cell_type": "code",
   "execution_count": 18,
   "metadata": {},
   "outputs": [
    {
     "name": "stdout",
     "output_type": "stream",
     "text": [
      "GRr the attentiRn RG Jeneral dRdJe Pr dRdJe, Ahile i cannRt claiP tR haZe recRZered GYllC GrRP the riJRYrs RG PC MRYrneC, i haZe nRA adMYsted tR CRYr cliPate and haZe HeJYn tR estaHlish PC rRYtine. i hRSe CRY Aill nRt take it HadlC that i aP relYctant tR aJree tR CRYr reUYest tR eBSedite PC Zisit tR AashinJtRn, HYt i aP nR lRnJer a CRYnJ Pan, and PC SerGRrPances reUYire cRnsideraHle enerJC GrRP Pe. aJe is the thieG RG tiPe, and nRne RG Ys knRA hRA UYicklC it is stRlen GrRP Ys. i PYst dR Ahat i can tR Partial that PRst SreciRYs resRYrce. RYr PYtYal Griend, Pr HaHHaJe, has cRPPended CRY tR Pe, and RYr RAn SriPe Pinister has taken Sains tR eBSlain tR Pe the iPSRrtance RG CRYr PissiRn, hRAeZer i Gail tR see hRA rearranJinJ PC schedYle Aill dR anCthinJ PYch tR sSeed the SrRJress RG Ahat PYst necessarilC He a lRnJ-terP inZestPent RG caSital and resRYrces. i haZe SrRPised that i Aill dR Ahat i can tR assist CRY, HYt i PYst cRnsider PC RAn health and AelGare iG i aP tR cRPSlete this tRYr. PaC i alsR rePark that iG the ARrk Rn Ahich CRY are ePHarked is trYlC as secret as CRY and HaHHaJe seeP tR HelieZe, then the Yse RG ancient ciShers dRes nRt Peet that need. i haZe taken the liHertC RG YsinJ sRPethinJ a little PRre aSSrRSriate in this letter and ARYld sYJJest that SerhaSs Ae Yse this PethRd GRr RYr GYtYre cRPPYnicatiRns. CRYrs sincerelC, charles dickens\n"
     ]
    }
   ],
   "source": [
    "# \"IKTVOFW ELINFQW\" could be \"Charles Dickens\" -> I=c, K=h, T=a, V=r, O=l, F=e, W=s, E=d, L=i, N=k, Q=n\n",
    "# \"XKF\" -> X=t\n",
    "decode(part_b_text, \"ABCDdeGHcJhiMklPnRSaUrstYZ\")"
   ]
  },
  {
   "cell_type": "code",
   "execution_count": 19,
   "metadata": {},
   "outputs": [
    {
     "name": "stdout",
     "output_type": "stream",
     "text": [
      "for the attention of general dodge mr dodge, while i cannot claim to have recovered fullC from the rigours of mC journeC, i have now adjusted to Cour climate and have Hegun to estaHlish mC routine. i hoSe Cou will not take it HadlC that i am reluctant to agree to Cour reUuest to eBSedite mC visit to washington, Hut i am no longer a Coung man, and mC Serformances reUuire consideraHle energC from me. age is the thief of time, and none of us know how UuicklC it is stolen from us. i must do what i can to martial that most Srecious resource. our mutual friend, mr HaHHage, has commended Cou to me, and our own Srime minister has taken Sains to eBSlain to me the imSortance of Cour mission, however i fail to see how rearranging mC schedule will do anCthing much to sSeed the Srogress of what must necessarilC He a long-term investment of caSital and resources. i have Sromised that i will do what i can to assist Cou, Hut i must consider mC own health and welfare if i am to comSlete this tour. maC i also remark that if the work on which Cou are emHarked is trulC as secret as Cou and HaHHage seem to Helieve, then the use of ancient ciShers does not meet that need. i have taken the liHertC of using something a little more aSSroSriate in this letter and would suggest that SerhaSs we use this method for our future communications. Cours sincerelC, charles dickens\n"
     ]
    }
   ],
   "source": [
    "# \"GRr the TttentiRn RG JenerTl dRdJe\" -> G=f, R=o, J=g\n",
    "# \"Ahile i cTnnRt clTiP tR hTZe recRZered\" -> A=w, P=m, Z=v\n",
    "# \"i hTZe nRA TdMYsted tR CRYr cliPTte\" -> M=j, Y=u\n",
    "decode(part_b_text, \"wBCDdefHcghijklmnoSaUrstuv\")"
   ]
  },
  {
   "cell_type": "code",
   "execution_count": 20,
   "metadata": {},
   "outputs": [
    {
     "name": "stdout",
     "output_type": "stream",
     "text": [
      "for the attention of general dodge mr dodge, while i cannot claim to have recovered fully from the rigours of my journey, i have now adjusted to your climate and have begun to establish my routine. i hope you will not take it badly that i am reluctant to agree to your request to expedite my visit to washington, but i am no longer a young man, and my performances require considerable energy from me. age is the thief of time, and none of us know how quickly it is stolen from us. i must do what i can to martial that most precious resource. our mutual friend, mr babbage, has commended you to me, and our own prime minister has taken pains to explain to me the importance of your mission, however i fail to see how rearranging my schedule will do anything much to speed the progress of what must necessarily be a long-term investment of capital and resources. i have promised that i will do what i can to assist you, but i must consider my own health and welfare if i am to complete this tour. may i also remark that if the work on which you are embarked is truly as secret as you and babbage seem to believe, then the use of ancient ciphers does not meet that need. i have taken the liberty of using something a little more appropriate in this letter and would suggest that perhaps we use this method for our future communications. yours sincerely, charles dickens\n"
     ]
    }
   ],
   "source": [
    "# \"recovered fullC from the rigours of mC journeC\" -> C=y\n",
    "# \" Hegun to estaHlish\" -> H=b\n",
    "# \"i hoSe Cou\" -> S=p\n",
    "# \"reUuest to eBSedite\" -> U=q, B=x\n",
    "# remaining: D=z\n",
    "decode(part_b_text, \"wxyzdefbcghijklmnopaqrstuv\")"
   ]
  },
  {
   "cell_type": "code",
   "execution_count": 21,
   "metadata": {},
   "outputs": [],
   "source": [
    "import string\n",
    "\n",
    "# Attempts to determine the keyword used for a substitution cipher\n",
    "# alphabet: The substitution alphabet\n",
    "def decode_key(alphabet):\n",
    "    decoded_alphabet = \"\"\n",
    "    for letter in string.ascii_lowercase:\n",
    "        decoded_alphabet += chr(alphabet.find(letter) + ord(\"a\"))\n",
    "    print(f\"Decoded alphabet: {decoded_alphabet}\")\n",
    "    \n",
    "    remaining_letters = list(string.ascii_lowercase)\n",
    "    for pos, letter in enumerate(decoded_alphabet):\n",
    "        remaining_letters.remove(letter)\n",
    "        next_letter_index = remaining_letters.index(decoded_alphabet[pos+1])\n",
    "        if decoded_alphabet[pos+1:] == \"\".join(remaining_letters[next_letter_index:] + remaining_letters[:next_letter_index]):\n",
    "            print(f\"Keyword: {decoded_alphabet[:pos+2]}\")\n",
    "            break"
   ]
  },
  {
   "cell_type": "code",
   "execution_count": 22,
   "metadata": {},
   "outputs": [
    {
     "name": "stdout",
     "output_type": "stream",
     "text": [
      "Decoded alphabet: thiefgjklmnopqrsuvwxyzabcd\n",
      "Keyword: thie\n"
     ]
    }
   ],
   "source": [
    "decode_key(\"wxyzdefbcghijklmnopaqrstuv\")"
   ]
  },
  {
   "cell_type": "code",
   "execution_count": null,
   "metadata": {},
   "outputs": [],
   "source": [
    "# \"thief\""
   ]
  }
 ],
 "metadata": {
  "kernelspec": {
   "display_name": "Python 3 (ipykernel)",
   "language": "python",
   "name": "python3"
  },
  "language_info": {
   "codemirror_mode": {
    "name": "ipython",
    "version": 3
   },
   "file_extension": ".py",
   "mimetype": "text/x-python",
   "name": "python",
   "nbconvert_exporter": "python",
   "pygments_lexer": "ipython3",
   "version": "3.12.4"
  }
 },
 "nbformat": 4,
 "nbformat_minor": 4
}
