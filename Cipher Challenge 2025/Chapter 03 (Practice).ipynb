{
 "cells": [
  {
   "cell_type": "markdown",
   "metadata": {},
   "source": [
    "# Cipher Challenge 2025\n",
    "### Chapter 3 / 2025-Oct-23\n",
    "\n",
    "Challenge link https://www.cipherchallenge.org/challenge/challenge-3/"
   ]
  },
  {
   "cell_type": "code",
   "execution_count": 8,
   "metadata": {},
   "outputs": [],
   "source": [
    "# Part A - \"Skulduggery Unpleasant\"\n",
    "part_a_text = \"\"\"FW MHLEBGY REHLH, B UHP HQ NBLPQ JEOHPOM HGM QZOG HEHLFOM QI LOROBTO WISL EOQQOL. ZHJJW IN RISLPO QI DGIU QZHQ WIS ZHTO HLLBTOM PHNOEW BG GOU WILD HGM QZOG HEHLFOM HQ WISL HRRISGQ IN QZO ASLGOM GIQO. B UHP PQSGY AW H MHLD JHGY IN COHEISPW, NOHLBGY QZHQ BQ FBYZQ AO H EOQQLO M’HFISL. RISEM BQ AO QZO LOHPIG QZHQ ZO MBM GIQ HEEIU FO QI HRRIFJHGW ZBF QI GOU WILD? B HF JLISM QI PHW QZHQ B MBPFBPPOM QZBP UBRDOM QZISYZQ HP SGUILQZW IN SP AIQZ HGM UHP SGPSLJLBPOM QZISYZ, B FSPQ RIGNOPP, H EBQQEO LOEBOTOM QI LOHM WISL OVJEHGHQBIG IN QZO BMOGQBQW IN QZO POGMOL. QZO FWPQOLW LOFHBGP HP QI UZHQ ASPBGOPP QZO YOGOLHE ZHM UBQZ FW AOEITOM, HGM UZW ZO ZHP RZIPOG QI RIFFSGBRHQO UBQZ RZHLEOP BG RIMO. B PSJJIPO BQ FBYZQ AO RIGGORQOM UBQZ RZHLEOP’P FOOQBGY UBQZ FL AHAAHYO HGM QZO JLBFO FBGBPQOL IG QZO MHW AONILO ZO EONQ. QZO MIIL QI QZO PQSMW UHP REIPOM, ASQ TIBROP UOLO REOHLEW LHBPOM MSLBGY QZO MBPRSPPBIG HGM RZHLEOP UHP BG H QOLLBAEO FIIM HNQOLUHLMP. ZO UISEM IGEW PHW QZHQ ZO UHP “QII IEM QI AO BGTIETOM BG PDSEMSYYOLW!” BN GIQ, QZOG B PSJJIPO QZHQ QZO EOQQOL FBYZQ ZHTO RIGROLGOM QZO HRQBTBQBOP IN QZO YZIPQ RESA. BP QZHQ QII NHGRBNSE? UZBEO QZO PIRBOQW BP ZHLMEW PORLOQ, PIFO JLHRQBRHE FOG HLO MBPFBPPBTO IN HG BGQOLOPQ BG PJBLBQSHEBPF, HGM B RHG BFHYBGO QZHQ H FHG UZI ZHP FHMO ZBP LOJSQHQBIG HP HG OGYBGOOL FHW NOOE QZHQ PSRZ HG HPPIRBHQBIG UISEM MHFHYO ZBP PQHGMBGY. BP QZOLO HGW UHW QZHQ WIS RISEM HPROLQHBG QZO RIGQOGQP IN QZBP RILLOPJIGMOGRO, IL QZO GHQSLO IN QZO LOEHQBIGPZBJ AOQUOOG QZOF? B HF FIPQ RSLBISP QI EOHLG. WISLP HNNORQBIGHQOEW, OEEOG\"\"\""
   ]
  },
  {
   "cell_type": "code",
   "execution_count": 9,
   "metadata": {},
   "outputs": [],
   "source": [
    "import string\n",
    "\n",
    "# A simple translation method.\n",
    "# text: The text to translate, in upper case\n",
    "# key: A substitution alphabet, usually in lower case so that the translated characters show up\n",
    "def decode(text, key):\n",
    "    table = str.maketrans(string.ascii_uppercase, key)\n",
    "    print(text.upper().translate(table))"
   ]
  },
  {
   "cell_type": "code",
   "execution_count": 10,
   "metadata": {},
   "outputs": [
    {
     "name": "stdout",
     "output_type": "stream",
     "text": [
      "my MarlinY clara, i UaP at NirPt JleaPeM anM then alarmeM tI receiTe yISr letter. haJJy IN cISrPe tI DnIU that yIS haTe arriTeM PaNely in neU yIrD anM then alarmeM at yISr accISnt IN the ASrneM nIte. i UaP PtSnY Ay a MarD JanY IN CealISPy, NearinY that it miYht Ae a lettre M’amISr. cISlM it Ae the reaPIn that he MiM nIt allIU me tI accImJany him tI neU yIrD? i am JrISM tI Pay that i MiPmiPPeM thiP UicDeM thISYht aP SnUIrthy IN SP AIth anM UaP SnPSrJriPeM thISYh, i mSPt cInNePP, a little relieTeM tI reaM yISr eVJlanatiIn IN the iMentity IN the PenMer. the myPtery remainP aP tI Uhat ASPinePP the Yeneral haM Uith my AelITeM, anM Uhy he haP chIPen tI cImmSnicate Uith charleP in cIMe. i PSJJIPe it miYht Ae cInnecteM Uith charleP’P meetinY Uith mr AaAAaYe anM the Jrime miniPter In the May AeNIre he leNt. the MIIr tI the PtSMy UaP clIPeM, ASt TIiceP Uere clearly raiPeM MSrinY the MiPcSPPiIn anM charleP UaP in a terriAle mIIM aNterUarMP. he UISlM Inly Pay that he UaP “tII IlM tI Ae inTIlTeM in PDSlMSYYery!” iN nIt, then i PSJJIPe that the letter miYht haTe cIncerneM the actiTitieP IN the YhIPt clSA. iP that tII NanciNSl? Uhile the PIciety iP harMly Pecret, PIme Jractical men are MiPmiPPiTe IN an interePt in PJiritSaliPm, anM i can imaYine that a man UhI haP maMe hiP reJStatiIn aP an enYineer may Neel that PSch an aPPIciatiIn UISlM MamaYe hiP PtanMinY. iP there any Uay that yIS cISlM aPcertain the cIntentP IN thiP cIrrePJInMence, Ir the natSre IN the relatiInPhiJ AetUeen them? i am mIPt cSriISP tI learn. yISrP aNNectiInately, ellen\n"
     ]
    }
   ],
   "source": [
    "# Probably another substitution\n",
    "# \"QZO\" -> Q=t, Z=h, O=e\n",
    "# \"OEEOG\" -> E=l, G=n\n",
    "# \"FW MHLEBGY REHLH\" -> F=m, W=y, R=c, H=a, L=r\n",
    "# B=i\n",
    "\n",
    "decode(part_a_text, \"AiCDlmnaIJKrMNePtcSTUVyXYh\")"
   ]
  },
  {
   "cell_type": "code",
   "execution_count": 11,
   "metadata": {},
   "outputs": [
    {
     "name": "stdout",
     "output_type": "stream",
     "text": [
      "my darling clara, i was at first pleased and then alarmed to receive your letter. happy of course to know that you have arrived safely in new york and then alarmed at your account of the burned note. i was stung by a dark pang of jealousy, fearing that it might be a lettre d’amour. could it be the reason that he did not allow me to accompany him to new york? i am proud to say that i dismissed this wicked thought as unworthy of us both and was unsurprised though, i must confess, a little relieved to read your explanation of the identity of the sender. the mystery remains as to what business the general had with my beloved, and why he has chosen to communicate with charles in code. i suppose it might be connected with charles’s meeting with mr babbage and the prime minister on the day before he left. the door to the study was closed, but voices were clearly raised during the discussion and charles was in a terrible mood afterwards. he would only say that he was “too old to be involved in skulduggery!” if not, then i suppose that the letter might have concerned the activities of the ghost club. is that too fanciful? while the society is hardly secret, some practical men are dismissive of an interest in spiritualism, and i can imagine that a man who has made his reputation as an engineer may feel that such an association would damage his standing. is there any way that you could ascertain the contents of this correspondence, or the nature of the relationship between them? i am most curious to learn. yours affectionately, ellen\n"
     ]
    }
   ],
   "source": [
    "# \"MarlinY\" -> M=d, Y=g\n",
    "# \"i UaP at NirPt JleaPeM anM then alarmeM tI receiTe yISr letter\" -> U=w, P=s, N=f, J=p, I=o, T=v, S=u\n",
    "# \"AaAAaYe\" -> A=b\n",
    "# \"neU yIrD\" -> D=k\n",
    "# \"eVJlanatiIn\" -> V=x\n",
    "# \"CealISPy\" -> C=j\n",
    "# K=q, X=z\n",
    "decode(part_a_text, \"bijklmnaopqrdfestcuvwxyzgh\")"
   ]
  },
  {
   "cell_type": "code",
   "execution_count": 12,
   "metadata": {},
   "outputs": [],
   "source": [
    "# Part B \"A Conspiracy\"\n",
    "part_b_text = \"\"\"EAMYD KERRO THSMI GRHOW FYATI TOING RFHEA YOROM ASUIW CECON DTRNE THHAT IRETH NDTEE OFAYS ENSIL INCES OUCEY STRLA SAMES IGGEM AVHTH DIEIN EDCAT TYTHA ADOUH NGCHA OUEDY NDRMI UTABO AROUR GERAN TTMEN OCHED NTUME PRYOU DEOVI EXDIS METRE ROLYP INMIS DMGAN RTYPA SANER EEREK SENTO REEMO YOARE KEULI OBLYT LEEAB BTTOO MOAIN AMRES SIPLE MTFIA NVOCO EOINC RSTHE NVTOI THEST TWENI DBOUL ODEGO ROTOP ETVID WIHEM VITHE CEDEN HEOFT UEVAL HEOFT URIRP SECHA EHSOM HIAVE DTNTE THHAT ARERE HEEOT YSRWA TTTHA COHEY PRULD EDOCE ITBUT KIHIN GHTMI POTBE BLSSI DCEAN AIERT WONLY BEULD TEBET RYRFO FWOUI ULECO GODNE TETIA ETSOM GFHIN RAAVO TOBLE PAALL ESRTI OUOFC DMRSE EPAYB TILOT NONGA RCTHE SEOUR MAAND KEYTA EPSOM UAERS NTSIO MMOCO OOITT ROURP ALPOS YOBUT VEUHA URASS STEDU YOHAT VEUHA EISOM UENFL ONNCE DEHIS IOCIS NDNSA REIAM NGLYI OUONY ELTOH ALPSE DETHE OUALY ITRFA LFHFU NDRIE INMOL ARO\"\"\""
   ]
  },
  {
   "cell_type": "code",
   "execution_count": 16,
   "metadata": {},
   "outputs": [],
   "source": [
    "import string\n",
    "\n",
    "# Attempts to determine the keyword used for a substitution cipher\n",
    "# alphabet: The substitution alphabet\n",
    "def decode_key(alphabet):\n",
    "    decoded_alphabet = \"\"\n",
    "    for letter in string.ascii_lowercase:\n",
    "        decoded_alphabet += chr(alphabet.find(letter) + ord(\"a\"))\n",
    "    print(f\"Decoded alphabet: {decoded_alphabet}\")\n",
    "    \n",
    "    remaining_letters = list(string.ascii_lowercase)\n",
    "    for pos, letter in enumerate(decoded_alphabet):\n",
    "        remaining_letters.remove(letter)\n",
    "        next_letter_index = remaining_letters.index(decoded_alphabet[pos+1])\n",
    "        if decoded_alphabet[pos+1:] == \"\".join(remaining_letters[next_letter_index:] + remaining_letters[:next_letter_index]):\n",
    "            print(f\"Keyword: {decoded_alphabet[:pos+2]}\")\n",
    "            break\n"
   ]
  },
  {
   "cell_type": "code",
   "execution_count": 17,
   "metadata": {},
   "outputs": [
    {
     "name": "stdout",
     "output_type": "stream",
     "text": [
      "Decoded alphabet: harmonyzbcdefgijklpqstuvwx\n",
      "Keyword: harmony\n"
     ]
    }
   ],
   "source": [
    "decode_key(\"bijklmnaopqrdfestcuvwxyzgh\")"
   ]
  },
  {
   "cell_type": "code",
   "execution_count": 13,
   "metadata": {},
   "outputs": [],
   "source": [
    "from collections import Counter\n",
    "\n",
    "# Takes a string or list of items and counts the frequencies of those items\n",
    "# data: The list or string to analyse\n",
    "# max_values: The maximum number of values to display (set to None for no limit)\n",
    "# no_columns: The amount of columns to use in the output\n",
    "def frequency_analysis(data, max_values=30, no_columns=5):\n",
    "    frequencies = Counter()\n",
    "    for item in data:\n",
    "        frequencies[item] += 1\n",
    "    \n",
    "    total = sum(frequencies.values())\n",
    "    column = 1\n",
    "    for item, frequency in frequencies.most_common(max_values):\n",
    "        print(f\"{item}: {frequency:2} ({frequency / total:.2%})\", end=\" \" if column % no_columns else \"\\n\")\n",
    "        column += 1\n",
    "    print(\"\\n-----\")"
   ]
  },
  {
   "cell_type": "code",
   "execution_count": 18,
   "metadata": {},
   "outputs": [
    {
     "name": "stdout",
     "output_type": "stream",
     "text": [
      "E: 93 (12.77%) O: 71 (9.75%) T: 67 (9.20%) A: 55 (7.55%) I: 49 (6.73%)\n",
      "R: 45 (6.18%) N: 41 (5.63%) H: 37 (5.08%) S: 37 (5.08%) U: 30 (4.12%)\n",
      "D: 29 (3.98%) M: 27 (3.71%) L: 26 (3.57%) Y: 23 (3.16%) C: 20 (2.75%)\n",
      "F: 14 (1.92%) P: 14 (1.92%) G: 13 (1.79%) B: 13 (1.79%) V: 11 (1.51%)\n",
      "W:  7 (0.96%) K:  5 (0.69%) X:  1 (0.14%) \n",
      "-----\n"
     ]
    }
   ],
   "source": [
    "# OK, let's check if we're still in substitution territory...\n",
    "squished = part_b_text.replace(\" \", \"\")\n",
    "frequency_analysis(squished)"
   ]
  },
  {
   "cell_type": "code",
   "execution_count": 20,
   "metadata": {},
   "outputs": [
    {
     "name": "stdout",
     "output_type": "stream",
     "text": [
      "728\n",
      "2  \n",
      "4  \n",
      "7  \n",
      "8  \n",
      "13  \n",
      "14  \n",
      "26  \n",
      "28  \n",
      "52  \n",
      "56  \n",
      "91  \n",
      "104  \n",
      "182  \n",
      "364  \n"
     ]
    }
   ],
   "source": [
    "# Probably transposition\n",
    "size = len(squished)\n",
    "print(size)\n",
    "for n in range (2, size):\n",
    "    if size % n == 0:\n",
    "        print(n, \" \")"
   ]
  },
  {
   "cell_type": "code",
   "execution_count": 32,
   "metadata": {},
   "outputs": [
    {
     "name": "stdout",
     "output_type": "stream",
     "text": [
      "EAMYDKER\n",
      "ROTHSMIG\n",
      "RHOWFYAT\n",
      "ITOINGRF\n",
      "...\n",
      "ETHEOUAL\n",
      "YITRFALF\n",
      "HFUNDRIE\n",
      "INMOLARO\n"
     ]
    }
   ],
   "source": [
    "# Try 8 columns\n",
    "for n in range(0, 32, 8):\n",
    "    print(squished[n:n+8])\n",
    "print(\"...\")\n",
    "for n in range(size-32, size, 8):\n",
    "    print(squished[n:n+8])\n"
   ]
  },
  {
   "cell_type": "code",
   "execution_count": 30,
   "metadata": {},
   "outputs": [
    {
     "name": "stdout",
     "output_type": "stream",
     "text": [
      "MYDEARKETHSIOGMROWFAHTYROINRTFGIAYOOEMRHUIWESCCADTRENTNOATIEHTRHDTEONFEHSENIYLSACESUNCOISTRAYSLEESIGMEGAVHTDAIHMNEDAITCETHADYOATNGCAHOHUDYNREMDUTABAUROIRGEAUNROMENCTHOTNTUEDPMEOUDOYVERXDIMEESIEROYRPLTMISMNGDIRTYANSPAERERNEEAENTRSEOKOYORMEAEULIBELOKLEEBTBAYOOMATIOTMRESAISNEMTILAFPOCOOVIENRSTECNHNOITETSHVWENDTBITLODGUOEOTOPTOVERWIHMDVEIHECDTEEIEOFUHETNLHEFATOVIRPERCSUEHSMAHOHVEDNATTIHHAATRTEEHEORTEERWATSTTYCOHYAPEHLDEOUCDRTBUKIITENGHMIITHTBELOSBPDCENIAASRTWNELOIEULTBEDYTRYFEORBOUILWEUFGODEOTNCIAESTOTEFHIRGANMOTOLVEBAALLSAREPOUOCIDFTSEEARYPMILONTOTBARCHGETNOURAEAMSKEYADETNOMUESRAPTSIMNMOSOOOTCTIOURPLOPARYOBTSVUOHAUAUSRETEDYSOUSTVEHAAUHSOMEINUEONNELDCFISICHIOEDNSRNEASMNGYAILIONYLUTEOALPEHDSOHEOATLUETRFLIFAYUNDIFERHMOLRNOAI"
     ]
    }
   ],
   "source": [
    "# \"My Dear is in there:\n",
    "for n in range(0, 728, 8):\n",
    "    for c in (2, 3, 4, 6, 1, 7, 5, 0):\n",
    "        print(squished[n+c], end=\"\")"
   ]
  },
  {
   "cell_type": "code",
   "execution_count": 40,
   "metadata": {},
   "outputs": [
    {
     "name": "stdout",
     "output_type": "stream",
     "text": [
      "EAMYD\n",
      "KERRO\n",
      "THSMI\n",
      "GRHOW\n",
      "...\n",
      "FALFH\n",
      "FUNDR\n",
      "IEINM\n",
      "OLARO\n"
     ]
    }
   ],
   "source": [
    "# The hint in the case file wrongly states that 728 only factorises to 2×364 and tells us that there are 5 columns\n",
    "squished+=\"..\"\n",
    "cols = 5\n",
    "for n in range(0, cols*4, cols):\n",
    "    print(squished[n:n+cols])\n",
    "print(\"...\")\n",
    "for n in range(size-(cols*4), size, cols):\n",
    "    print(squished[n:n+cols])\n"
   ]
  },
  {
   "cell_type": "code",
   "execution_count": 39,
   "metadata": {},
   "outputs": [
    {
     "name": "stdout",
     "output_type": "stream",
     "text": [
      "MYDEARROKESMITHHOWGRATIFYINGTOHEARFROMYOUIWASCONCERNEDTHATTHETHIRTEENDAYSOFSILENCESINCEYOURLASTMESSAGEMIGHTHAVEINDICATEDTHATYOUHADCHANGEDYOURMINDABOUTOURARRANGEMENTTHEDOCUMENTYOUPROVIDEDISEXTREMELYPROMISINGANDMYPARTNERSAREKEENTOSEEMOREAREYOULIKELYTOBEABLETOOBTAINMORESAMPLESIFIAMTOCONVINCEOTHERSTOINVESTTHENITWOULDBEGOODTOPROVIDETHEMWITHEVIDENCEOFTHEVALUEOFTHEIRPURCHASESOMEHAVEHINTEDTHATTHEREAREOTHERWAYSTHATTHEYCOULDPROCEEDBUTITHINKITMIGHTBEPOSSIBLEANDCERTAINLYWOULDBEBETTERFORYOUIFWECOULDNEGOTIATESOMETHINGFAVORABLETOALLPARTIESOFCOURSEDMAYBEPLOTTINGANOTHERCOURSEANDMAYTAKESOMEPERSUASIONTOCOMMITTOOURPROPOSALBUTYOUHAVEASSUREDUSTHATYOUHAVESOMEINFLUENCEONHISDECISIONSANDIAMRELYINGONYOUTOHELPSEALTHEDEALYOURFAITHFULFRIENDMOLINO..AR"
     ]
    }
   ],
   "source": [
    "# \"My Dear is in there:\n",
    "for n in range(0, 730, 5):\n",
    "    for c in (2, 3, 4, 0, 1):\n",
    "        print(squished[n+c], end=\"\")"
   ]
  },
  {
   "cell_type": "markdown",
   "metadata": {},
   "source": [
    "# Split with wordninja again...\n",
    "My dear Rokesmith,<br/>\n",
    "How gratifying to hear from you. I was concerned that the thirteen days of silence since your last message might have indicated that you had changed your mind about our arrangement.<br/>\n",
    "The document you provided is extremely promising and my partners are keen to see more. Are you likely to be able to obtain more samples?<br/>\n",
    "If I am to convince others to invest, then it would be good to provide them with evidence of the value of their purchase. Some have hinted that there are other ways that they could proceed, but I think it might be possible and certainly would be better for you if we could negotiate something favorable to all parties.<br/>\n",
    "Of coursed maybe plotting another course and may take some persuasion to commit to our proposal but you have assured us that you have some influence on his decisions and I am relying on you to help seal the deal.<br/>\n",
    "Your Faithful friend,<br/>\n",
    "Molinaro\n"
   ]
  },
  {
   "cell_type": "code",
   "execution_count": null,
   "metadata": {},
   "outputs": [],
   "source": []
  }
 ],
 "metadata": {
  "kernelspec": {
   "display_name": "Python 3 (ipykernel)",
   "language": "python",
   "name": "python3"
  },
  "language_info": {
   "codemirror_mode": {
    "name": "ipython",
    "version": 3
   },
   "file_extension": ".py",
   "mimetype": "text/x-python",
   "name": "python",
   "nbconvert_exporter": "python",
   "pygments_lexer": "ipython3",
   "version": "3.12.4"
  }
 },
 "nbformat": 4,
 "nbformat_minor": 4
}
